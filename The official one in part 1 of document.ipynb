{
 "cells": [
  {
   "cell_type": "code",
   "execution_count": 2,
   "id": "384024db",
   "metadata": {},
   "outputs": [],
   "source": [
    "import pandas as pd"
   ]
  },
  {
   "cell_type": "code",
   "execution_count": 3,
   "id": "6d8a5d2b",
   "metadata": {},
   "outputs": [],
   "source": [
    "gas_sand = pd.read_csv('erosion in gas-sand conditions.csv')\n",
    "multiphase_flow = pd.read_csv(\"erosion under multiphase flow conditions.csv\")\n",
    "\n",
    "gas_sand['splitter'] = 0\n",
    "multiphase_flow['splitter']=1"
   ]
  },
  {
   "cell_type": "code",
   "execution_count": 4,
   "id": "81560695",
   "metadata": {},
   "outputs": [],
   "source": [
    "\n",
    "dataset = pd.concat([multiphase_flow,gas_sand], ignore_index=True)\n"
   ]
  },
  {
   "cell_type": "code",
   "execution_count": 5,
   "id": "2316244c",
   "metadata": {},
   "outputs": [
    {
     "data": {
      "text/html": [
       "<div>\n",
       "<style scoped>\n",
       "    .dataframe tbody tr th:only-of-type {\n",
       "        vertical-align: middle;\n",
       "    }\n",
       "\n",
       "    .dataframe tbody tr th {\n",
       "        vertical-align: top;\n",
       "    }\n",
       "\n",
       "    .dataframe thead th {\n",
       "        text-align: right;\n",
       "    }\n",
       "</style>\n",
       "<table border=\"1\" class=\"dataframe\">\n",
       "  <thead>\n",
       "    <tr style=\"text-align: right;\">\n",
       "      <th></th>\n",
       "      <th>Reference</th>\n",
       "      <th>Pipe Wall Material</th>\n",
       "      <th>Pipe Diameter (m)</th>\n",
       "      <th>Particle Size (µm)</th>\n",
       "      <th>Liquid Viscosity (cP)</th>\n",
       "      <th>Liquid Superficial Velocity (m/s)</th>\n",
       "      <th>Gas Superficial Velocity (m/s)</th>\n",
       "      <th>Measured Erosion (mm/kg)</th>\n",
       "      <th>Predicted Erosion (mm/kg)</th>\n",
       "      <th>Error (%)</th>\n",
       "      <th>splitter</th>\n",
       "    </tr>\n",
       "  </thead>\n",
       "  <tbody>\n",
       "    <tr>\n",
       "      <th>0</th>\n",
       "      <td>Vieira (2014)</td>\n",
       "      <td>SS-316</td>\n",
       "      <td>0.0762</td>\n",
       "      <td>300</td>\n",
       "      <td>1.0</td>\n",
       "      <td>0.18</td>\n",
       "      <td>48.8</td>\n",
       "      <td>0.00254</td>\n",
       "      <td>0.00208</td>\n",
       "      <td>18.1</td>\n",
       "      <td>1</td>\n",
       "    </tr>\n",
       "    <tr>\n",
       "      <th>1</th>\n",
       "      <td>NaN</td>\n",
       "      <td>SS-316</td>\n",
       "      <td>0.0762</td>\n",
       "      <td>300</td>\n",
       "      <td>1.0</td>\n",
       "      <td>0.04</td>\n",
       "      <td>48.8</td>\n",
       "      <td>0.00250</td>\n",
       "      <td>0.00218</td>\n",
       "      <td>12.8</td>\n",
       "      <td>1</td>\n",
       "    </tr>\n",
       "    <tr>\n",
       "      <th>2</th>\n",
       "      <td>NaN</td>\n",
       "      <td>SS-316</td>\n",
       "      <td>0.0762</td>\n",
       "      <td>300</td>\n",
       "      <td>1.0</td>\n",
       "      <td>0.02</td>\n",
       "      <td>48.8</td>\n",
       "      <td>0.00191</td>\n",
       "      <td>0.00205</td>\n",
       "      <td>7.7</td>\n",
       "      <td>1</td>\n",
       "    </tr>\n",
       "    <tr>\n",
       "      <th>3</th>\n",
       "      <td>NaN</td>\n",
       "      <td>SS-316</td>\n",
       "      <td>0.0762</td>\n",
       "      <td>300</td>\n",
       "      <td>1.0</td>\n",
       "      <td>0.02</td>\n",
       "      <td>48.8</td>\n",
       "      <td>0.00197</td>\n",
       "      <td>0.00205</td>\n",
       "      <td>4.4</td>\n",
       "      <td>1</td>\n",
       "    </tr>\n",
       "    <tr>\n",
       "      <th>4</th>\n",
       "      <td>NaN</td>\n",
       "      <td>SS-316</td>\n",
       "      <td>0.0762</td>\n",
       "      <td>300</td>\n",
       "      <td>1.0</td>\n",
       "      <td>0.01</td>\n",
       "      <td>48.8</td>\n",
       "      <td>0.00212</td>\n",
       "      <td>0.00208</td>\n",
       "      <td>1.9</td>\n",
       "      <td>1</td>\n",
       "    </tr>\n",
       "  </tbody>\n",
       "</table>\n",
       "</div>"
      ],
      "text/plain": [
       "       Reference Pipe Wall Material  Pipe Diameter (m)  Particle Size (µm)  \\\n",
       "0  Vieira (2014)             SS-316             0.0762                 300   \n",
       "1            NaN             SS-316             0.0762                 300   \n",
       "2            NaN             SS-316             0.0762                 300   \n",
       "3            NaN             SS-316             0.0762                 300   \n",
       "4            NaN             SS-316             0.0762                 300   \n",
       "\n",
       "   Liquid Viscosity (cP)  Liquid Superficial Velocity (m/s)  \\\n",
       "0                    1.0                               0.18   \n",
       "1                    1.0                               0.04   \n",
       "2                    1.0                               0.02   \n",
       "3                    1.0                               0.02   \n",
       "4                    1.0                               0.01   \n",
       "\n",
       "   Gas Superficial Velocity (m/s)  Measured Erosion (mm/kg)  \\\n",
       "0                            48.8                   0.00254   \n",
       "1                            48.8                   0.00250   \n",
       "2                            48.8                   0.00191   \n",
       "3                            48.8                   0.00197   \n",
       "4                            48.8                   0.00212   \n",
       "\n",
       "   Predicted Erosion (mm/kg)  Error (%)  splitter  \n",
       "0                    0.00208       18.1         1  \n",
       "1                    0.00218       12.8         1  \n",
       "2                    0.00205        7.7         1  \n",
       "3                    0.00205        4.4         1  \n",
       "4                    0.00208        1.9         1  "
      ]
     },
     "execution_count": 5,
     "metadata": {},
     "output_type": "execute_result"
    }
   ],
   "source": [
    "dataset.head()"
   ]
  },
  {
   "cell_type": "code",
   "execution_count": 6,
   "id": "1e2235d2",
   "metadata": {},
   "outputs": [
    {
     "data": {
      "text/plain": [
       "(202, 11)"
      ]
     },
     "execution_count": 6,
     "metadata": {},
     "output_type": "execute_result"
    }
   ],
   "source": [
    "dataset.shape"
   ]
  },
  {
   "cell_type": "code",
   "execution_count": 7,
   "id": "a04bcd8b",
   "metadata": {},
   "outputs": [
    {
     "data": {
      "text/plain": [
       "Reference                            191\n",
       "Pipe Wall Material                     0\n",
       "Pipe Diameter (m)                      0\n",
       "Particle Size (µm)                     0\n",
       "Liquid Viscosity (cP)                 61\n",
       "Liquid Superficial Velocity (m/s)     61\n",
       "Gas Superficial Velocity (m/s)         0\n",
       "Measured Erosion (mm/kg)               0\n",
       "Predicted Erosion (mm/kg)              0\n",
       "Error (%)                              0\n",
       "splitter                               0\n",
       "dtype: int64"
      ]
     },
     "execution_count": 7,
     "metadata": {},
     "output_type": "execute_result"
    }
   ],
   "source": [
    "dataset.isnull().sum()"
   ]
  },
  {
   "cell_type": "code",
   "execution_count": 8,
   "id": "4a5a8948",
   "metadata": {},
   "outputs": [],
   "source": [
    "#drop completely empty rows (not taking into account the splitter column cuz we just added it manually)\n",
    "\n",
    "dataset.dropna(how='all', subset=[col for col in dataset.columns if col != 'splitter'], inplace= True)"
   ]
  },
  {
   "cell_type": "code",
   "execution_count": 9,
   "id": "dca16a63",
   "metadata": {},
   "outputs": [
    {
     "data": {
      "text/plain": [
       "(202, 11)"
      ]
     },
     "execution_count": 9,
     "metadata": {},
     "output_type": "execute_result"
    }
   ],
   "source": [
    "dataset.shape"
   ]
  },
  {
   "cell_type": "code",
   "execution_count": 10,
   "id": "dbafb259",
   "metadata": {},
   "outputs": [],
   "source": [
    "#filling nulls with zeros \n",
    "cols_to_fill = ['Liquid Viscosity (cP)','Liquid Superficial Velocity (m/s)']\n",
    "dataset[cols_to_fill] = dataset[cols_to_fill].fillna(0)"
   ]
  },
  {
   "cell_type": "code",
   "execution_count": 11,
   "id": "253eb761",
   "metadata": {},
   "outputs": [],
   "source": [
    "# drop unimportant column\n",
    "dataset.drop(columns='Reference', inplace=True)"
   ]
  },
  {
   "cell_type": "code",
   "execution_count": 12,
   "id": "3dcd070a",
   "metadata": {},
   "outputs": [
    {
     "data": {
      "text/plain": [
       "Pipe Wall Material                   0\n",
       "Pipe Diameter (m)                    0\n",
       "Particle Size (µm)                   0\n",
       "Liquid Viscosity (cP)                0\n",
       "Liquid Superficial Velocity (m/s)    0\n",
       "Gas Superficial Velocity (m/s)       0\n",
       "Measured Erosion (mm/kg)             0\n",
       "Predicted Erosion (mm/kg)            0\n",
       "Error (%)                            0\n",
       "splitter                             0\n",
       "dtype: int64"
      ]
     },
     "execution_count": 12,
     "metadata": {},
     "output_type": "execute_result"
    }
   ],
   "source": [
    "dataset.isnull().sum()"
   ]
  },
  {
   "cell_type": "code",
   "execution_count": 13,
   "id": "a560da44",
   "metadata": {},
   "outputs": [
    {
     "data": {
      "text/plain": [
       "Pipe Wall Material\n",
       "SS-316        136\n",
       "ASTM 234       27\n",
       "CS-100_95      19\n",
       "CS-100_167     10\n",
       "CS-100_130      8\n",
       "Cs-100_95       2\n",
       "Name: count, dtype: int64"
      ]
     },
     "execution_count": 13,
     "metadata": {},
     "output_type": "execute_result"
    }
   ],
   "source": [
    "dataset['Pipe Wall Material'].value_counts()"
   ]
  },
  {
   "cell_type": "code",
   "execution_count": 14,
   "id": "7fe10120",
   "metadata": {},
   "outputs": [
    {
     "name": "stderr",
     "output_type": "stream",
     "text": [
      "C:\\Users\\abdul\\AppData\\Local\\Temp\\ipykernel_5400\\2457097583.py:1: FutureWarning: A value is trying to be set on a copy of a DataFrame or Series through chained assignment using an inplace method.\n",
      "The behavior will change in pandas 3.0. This inplace method will never work because the intermediate object on which we are setting values always behaves as a copy.\n",
      "\n",
      "For example, when doing 'df[col].method(value, inplace=True)', try using 'df.method({col: value}, inplace=True)' or df[col] = df[col].method(value) instead, to perform the operation inplace on the original object.\n",
      "\n",
      "\n",
      "  dataset['Pipe Wall Material'].replace({\n"
     ]
    }
   ],
   "source": [
    "dataset['Pipe Wall Material'].replace({\n",
    "    'Cs-100_95':'CS-100_95'\n",
    "},\n",
    "  inplace= True                                    \n",
    "                                      )"
   ]
  },
  {
   "cell_type": "code",
   "execution_count": 15,
   "id": "387516b1",
   "metadata": {},
   "outputs": [],
   "source": [
    "Predicted_Erosion = dataset['Predicted Erosion (mm/kg)']\n",
    "Measured_Erosion = dataset['Measured Erosion (mm/kg)']\n",
    "Error_col = dataset['Error (%)']\n",
    "dataset.drop(columns=['Error (%)', 'Predicted Erosion (mm/kg)'], inplace=True, axis=1)\n"
   ]
  },
  {
   "cell_type": "code",
   "execution_count": 16,
   "id": "c8deaf9a",
   "metadata": {},
   "outputs": [
    {
     "data": {
      "text/html": [
       "<div>\n",
       "<style scoped>\n",
       "    .dataframe tbody tr th:only-of-type {\n",
       "        vertical-align: middle;\n",
       "    }\n",
       "\n",
       "    .dataframe tbody tr th {\n",
       "        vertical-align: top;\n",
       "    }\n",
       "\n",
       "    .dataframe thead th {\n",
       "        text-align: right;\n",
       "    }\n",
       "</style>\n",
       "<table border=\"1\" class=\"dataframe\">\n",
       "  <thead>\n",
       "    <tr style=\"text-align: right;\">\n",
       "      <th></th>\n",
       "      <th>Pipe Wall Material</th>\n",
       "      <th>Pipe Diameter (m)</th>\n",
       "      <th>Particle Size (µm)</th>\n",
       "      <th>Liquid Viscosity (cP)</th>\n",
       "      <th>Liquid Superficial Velocity (m/s)</th>\n",
       "      <th>Gas Superficial Velocity (m/s)</th>\n",
       "      <th>Measured Erosion (mm/kg)</th>\n",
       "      <th>splitter</th>\n",
       "    </tr>\n",
       "  </thead>\n",
       "  <tbody>\n",
       "    <tr>\n",
       "      <th>0</th>\n",
       "      <td>SS-316</td>\n",
       "      <td>0.0762</td>\n",
       "      <td>300</td>\n",
       "      <td>1.0</td>\n",
       "      <td>0.18</td>\n",
       "      <td>48.8</td>\n",
       "      <td>0.00254</td>\n",
       "      <td>1</td>\n",
       "    </tr>\n",
       "    <tr>\n",
       "      <th>1</th>\n",
       "      <td>SS-316</td>\n",
       "      <td>0.0762</td>\n",
       "      <td>300</td>\n",
       "      <td>1.0</td>\n",
       "      <td>0.04</td>\n",
       "      <td>48.8</td>\n",
       "      <td>0.00250</td>\n",
       "      <td>1</td>\n",
       "    </tr>\n",
       "    <tr>\n",
       "      <th>2</th>\n",
       "      <td>SS-316</td>\n",
       "      <td>0.0762</td>\n",
       "      <td>300</td>\n",
       "      <td>1.0</td>\n",
       "      <td>0.02</td>\n",
       "      <td>48.8</td>\n",
       "      <td>0.00191</td>\n",
       "      <td>1</td>\n",
       "    </tr>\n",
       "    <tr>\n",
       "      <th>3</th>\n",
       "      <td>SS-316</td>\n",
       "      <td>0.0762</td>\n",
       "      <td>300</td>\n",
       "      <td>1.0</td>\n",
       "      <td>0.02</td>\n",
       "      <td>48.8</td>\n",
       "      <td>0.00197</td>\n",
       "      <td>1</td>\n",
       "    </tr>\n",
       "    <tr>\n",
       "      <th>4</th>\n",
       "      <td>SS-316</td>\n",
       "      <td>0.0762</td>\n",
       "      <td>300</td>\n",
       "      <td>1.0</td>\n",
       "      <td>0.01</td>\n",
       "      <td>48.8</td>\n",
       "      <td>0.00212</td>\n",
       "      <td>1</td>\n",
       "    </tr>\n",
       "  </tbody>\n",
       "</table>\n",
       "</div>"
      ],
      "text/plain": [
       "  Pipe Wall Material  Pipe Diameter (m)  Particle Size (µm)  \\\n",
       "0             SS-316             0.0762                 300   \n",
       "1             SS-316             0.0762                 300   \n",
       "2             SS-316             0.0762                 300   \n",
       "3             SS-316             0.0762                 300   \n",
       "4             SS-316             0.0762                 300   \n",
       "\n",
       "   Liquid Viscosity (cP)  Liquid Superficial Velocity (m/s)  \\\n",
       "0                    1.0                               0.18   \n",
       "1                    1.0                               0.04   \n",
       "2                    1.0                               0.02   \n",
       "3                    1.0                               0.02   \n",
       "4                    1.0                               0.01   \n",
       "\n",
       "   Gas Superficial Velocity (m/s)  Measured Erosion (mm/kg)  splitter  \n",
       "0                            48.8                   0.00254         1  \n",
       "1                            48.8                   0.00250         1  \n",
       "2                            48.8                   0.00191         1  \n",
       "3                            48.8                   0.00197         1  \n",
       "4                            48.8                   0.00212         1  "
      ]
     },
     "execution_count": 16,
     "metadata": {},
     "output_type": "execute_result"
    }
   ],
   "source": [
    "dataset.head()"
   ]
  },
  {
   "cell_type": "code",
   "execution_count": null,
   "id": "60f6ea8c",
   "metadata": {},
   "outputs": [],
   "source": [
    "\n",
    "dataset_first_drop = pd.get_dummies(dataset,  drop_first= True,columns=['Pipe Wall Material'], dtype=int)\n",
    "dataset_trees = pd.get_dummies(dataset,  drop_first= False,columns=['Pipe Wall Material'], dtype=int)"
   ]
  },
  {
   "cell_type": "code",
   "execution_count": 18,
   "id": "9f223548",
   "metadata": {},
   "outputs": [
    {
     "data": {
      "text/html": [
       "<div>\n",
       "<style scoped>\n",
       "    .dataframe tbody tr th:only-of-type {\n",
       "        vertical-align: middle;\n",
       "    }\n",
       "\n",
       "    .dataframe tbody tr th {\n",
       "        vertical-align: top;\n",
       "    }\n",
       "\n",
       "    .dataframe thead th {\n",
       "        text-align: right;\n",
       "    }\n",
       "</style>\n",
       "<table border=\"1\" class=\"dataframe\">\n",
       "  <thead>\n",
       "    <tr style=\"text-align: right;\">\n",
       "      <th></th>\n",
       "      <th>Pipe Diameter (m)</th>\n",
       "      <th>Particle Size (µm)</th>\n",
       "      <th>Liquid Viscosity (cP)</th>\n",
       "      <th>Liquid Superficial Velocity (m/s)</th>\n",
       "      <th>Gas Superficial Velocity (m/s)</th>\n",
       "      <th>Measured Erosion (mm/kg)</th>\n",
       "      <th>splitter</th>\n",
       "      <th>Pipe Wall Material_CS-100_130</th>\n",
       "      <th>Pipe Wall Material_CS-100_167</th>\n",
       "      <th>Pipe Wall Material_CS-100_95</th>\n",
       "      <th>Pipe Wall Material_SS-316</th>\n",
       "    </tr>\n",
       "  </thead>\n",
       "  <tbody>\n",
       "    <tr>\n",
       "      <th>0</th>\n",
       "      <td>0.0762</td>\n",
       "      <td>300</td>\n",
       "      <td>1.0</td>\n",
       "      <td>0.18</td>\n",
       "      <td>48.8</td>\n",
       "      <td>0.00254</td>\n",
       "      <td>1</td>\n",
       "      <td>0</td>\n",
       "      <td>0</td>\n",
       "      <td>0</td>\n",
       "      <td>1</td>\n",
       "    </tr>\n",
       "    <tr>\n",
       "      <th>1</th>\n",
       "      <td>0.0762</td>\n",
       "      <td>300</td>\n",
       "      <td>1.0</td>\n",
       "      <td>0.04</td>\n",
       "      <td>48.8</td>\n",
       "      <td>0.00250</td>\n",
       "      <td>1</td>\n",
       "      <td>0</td>\n",
       "      <td>0</td>\n",
       "      <td>0</td>\n",
       "      <td>1</td>\n",
       "    </tr>\n",
       "    <tr>\n",
       "      <th>2</th>\n",
       "      <td>0.0762</td>\n",
       "      <td>300</td>\n",
       "      <td>1.0</td>\n",
       "      <td>0.02</td>\n",
       "      <td>48.8</td>\n",
       "      <td>0.00191</td>\n",
       "      <td>1</td>\n",
       "      <td>0</td>\n",
       "      <td>0</td>\n",
       "      <td>0</td>\n",
       "      <td>1</td>\n",
       "    </tr>\n",
       "    <tr>\n",
       "      <th>3</th>\n",
       "      <td>0.0762</td>\n",
       "      <td>300</td>\n",
       "      <td>1.0</td>\n",
       "      <td>0.02</td>\n",
       "      <td>48.8</td>\n",
       "      <td>0.00197</td>\n",
       "      <td>1</td>\n",
       "      <td>0</td>\n",
       "      <td>0</td>\n",
       "      <td>0</td>\n",
       "      <td>1</td>\n",
       "    </tr>\n",
       "    <tr>\n",
       "      <th>4</th>\n",
       "      <td>0.0762</td>\n",
       "      <td>300</td>\n",
       "      <td>1.0</td>\n",
       "      <td>0.01</td>\n",
       "      <td>48.8</td>\n",
       "      <td>0.00212</td>\n",
       "      <td>1</td>\n",
       "      <td>0</td>\n",
       "      <td>0</td>\n",
       "      <td>0</td>\n",
       "      <td>1</td>\n",
       "    </tr>\n",
       "  </tbody>\n",
       "</table>\n",
       "</div>"
      ],
      "text/plain": [
       "   Pipe Diameter (m)  Particle Size (µm)  Liquid Viscosity (cP)  \\\n",
       "0             0.0762                 300                    1.0   \n",
       "1             0.0762                 300                    1.0   \n",
       "2             0.0762                 300                    1.0   \n",
       "3             0.0762                 300                    1.0   \n",
       "4             0.0762                 300                    1.0   \n",
       "\n",
       "   Liquid Superficial Velocity (m/s)  Gas Superficial Velocity (m/s)  \\\n",
       "0                               0.18                            48.8   \n",
       "1                               0.04                            48.8   \n",
       "2                               0.02                            48.8   \n",
       "3                               0.02                            48.8   \n",
       "4                               0.01                            48.8   \n",
       "\n",
       "   Measured Erosion (mm/kg)  splitter  Pipe Wall Material_CS-100_130  \\\n",
       "0                   0.00254         1                              0   \n",
       "1                   0.00250         1                              0   \n",
       "2                   0.00191         1                              0   \n",
       "3                   0.00197         1                              0   \n",
       "4                   0.00212         1                              0   \n",
       "\n",
       "   Pipe Wall Material_CS-100_167  Pipe Wall Material_CS-100_95  \\\n",
       "0                              0                             0   \n",
       "1                              0                             0   \n",
       "2                              0                             0   \n",
       "3                              0                             0   \n",
       "4                              0                             0   \n",
       "\n",
       "   Pipe Wall Material_SS-316  \n",
       "0                          1  \n",
       "1                          1  \n",
       "2                          1  \n",
       "3                          1  \n",
       "4                          1  "
      ]
     },
     "execution_count": 18,
     "metadata": {},
     "output_type": "execute_result"
    }
   ],
   "source": [
    "dataset_first_drop.head()"
   ]
  },
  {
   "cell_type": "code",
   "execution_count": 19,
   "id": "e19bbcca",
   "metadata": {},
   "outputs": [],
   "source": [
    "import numpy as np\n",
    "X_log = dataset_first_drop.drop(columns='Measured Erosion (mm/kg)')\n",
    "Y_log = dataset_first_drop['Measured Erosion (mm/kg)']\n",
    "\n",
    "\n",
    "\n",
    "\n",
    "\n",
    "\n",
    "\n",
    "\n",
    "X = dataset_trees.drop(columns=['Measured Erosion (mm/kg)','splitter'])\n",
    "X_trees = dataset_trees.drop(columns='Measured Erosion (mm/kg)')\n",
    "Y_trees = dataset_trees['Measured Erosion (mm/kg)']\n",
    "Y = dataset_trees['Measured Erosion (mm/kg)']\n",
    "Xg = dataset_trees.drop(columns=['Measured Erosion (mm/kg)'])"
   ]
  },
  {
   "cell_type": "code",
   "execution_count": 20,
   "id": "cd3d5f7f",
   "metadata": {},
   "outputs": [],
   "source": [
    "from sklearn.preprocessing import StandardScaler\n",
    "from sklearn.model_selection import train_test_split\n",
    "\n",
    "X_train_first_drop, X_test_first_drop, Y_train_first_drop, Y_test_first_drop = train_test_split(X_log, Y_log, test_size=0.5, stratify=dataset_first_drop['splitter'], random_state= 42)\n",
    "X_train_trees, X_test_trees, Y_train_trees, Y_test_trees = train_test_split(X_trees, Y_trees,test_size=0.5, stratify=dataset_trees['splitter'], random_state=42 )\n",
    "\n",
    "\n",
    "\n",
    "\n",
    "\n",
    "\n",
    "\n",
    "\n",
    "\n",
    "\n",
    "\n",
    "\n",
    "\n",
    "X_train_first_drop_nn_LR, X_test_first_drop_nn_LR, Y_train_first_drop_nn_LR, Y_test_first_drop_nn_LR = train_test_split(X_log, Y_log, test_size=0.5, stratify=dataset_first_drop['splitter'], random_state= 42)\n",
    "\n",
    "\n",
    "X_train_first_drop = X_train_first_drop.drop(columns='splitter')\n",
    "X_test_first_drop = X_test_first_drop.drop(columns='splitter')\n",
    "\n",
    "X_train_trees = X_train_trees.drop(columns='splitter')\n",
    "X_test_trees = X_test_trees.drop(columns='splitter')\n",
    "\n",
    "X_train, X_test, Y_train, Y_test = train_test_split(Xg, Y, test_size=0.5, stratify=dataset['splitter'], random_state= 42)\n",
    "\n",
    "\n",
    "X_train = X_train.drop(columns='splitter')\n",
    "X_test= X_test.drop(columns='splitter')\n",
    "\n",
    "X_train_SVR = X_train_first_drop.drop(columns=['Pipe Wall Material_CS-100_130',\t'Pipe Wall Material_CS-100_167',\t'Pipe Wall Material_CS-100_95',\t'Pipe Wall Material_SS-316'])\n",
    "X_test_SVR = X_test_first_drop.drop(columns=['Pipe Wall Material_CS-100_130',\t'Pipe Wall Material_CS-100_167',\t'Pipe Wall Material_CS-100_95',\t'Pipe Wall Material_SS-316'])"
   ]
  },
  {
   "cell_type": "code",
   "execution_count": 21,
   "id": "9f5360bd",
   "metadata": {},
   "outputs": [],
   "source": [
    "\n",
    "\n",
    "scaler = StandardScaler()\n",
    "\n",
    "X_train_first_drop_scaled = scaler.fit_transform(X_train_first_drop)\n",
    "X_test_first_drop_scaled = scaler.transform(X_test_first_drop)\n",
    "\n",
    "\n",
    "\n",
    "\n",
    "\n",
    "X_train_SVR_scaled = scaler.fit_transform(X_train_SVR)\n",
    "X_test_SVR_scaled = scaler.transform(X_test_SVR)\n",
    "\n",
    "X_train_first_drop_scaled = scaler.fit_transform(X_train_first_drop)\n",
    "X_test_first_drop_scaled = scaler.transform(X_test_first_drop)\n",
    "\n"
   ]
  },
  {
   "cell_type": "code",
   "execution_count": 22,
   "id": "8aba789c",
   "metadata": {},
   "outputs": [],
   "source": [
    "#import seaborn as sns\n",
    "#import matplotlib.pyplot as plt\n",
    "\n",
    "#correlation = dataset[['Pipe Diameter (m)',\t'Particle Size (µm)',\t'Liquid Viscosity (cP)',\t'Liquid Superficial Velocity (m/s)',\t'Gas Superficial Velocity (m/s)','Measured Erosion (mm/kg)']].corr()\n",
    "#plt.figure(figsize=(10, 6))\n",
    "#sns.heatmap(correlation[['Measured Erosion (mm/kg)']].sort_values(by='Measured Erosion (mm/kg)', ascending=False), annot=True, cmap='coolwarm')\n",
    "#plt.title('Feature Correlation with Measured Erosion')\n",
    "#plt.show()\n"
   ]
  },
  {
   "cell_type": "code",
   "execution_count": 23,
   "id": "8e6ad84d",
   "metadata": {},
   "outputs": [],
   "source": [
    "from sklearn.linear_model import LogisticRegression\n",
    "from sklearn.ensemble import RandomForestRegressor"
   ]
  },
  {
   "cell_type": "code",
   "execution_count": 24,
   "id": "a3a6296c",
   "metadata": {},
   "outputs": [
    {
     "name": "stdout",
     "output_type": "stream",
     "text": [
      "Linear Regression MAE: 0.01397550646717738\n",
      "Linear Regression R²: 0.7923348266430954\n",
      "Linear Regression MSE: 0.00032248238844623765\n"
     ]
    }
   ],
   "source": [
    "from sklearn.linear_model import LinearRegression\n",
    "from sklearn.metrics import mean_squared_error, r2_score , mean_absolute_error\n",
    "\n",
    "# train\n",
    "lr_model = LinearRegression()\n",
    "lr_model.fit(X_train_first_drop_scaled, Y_train_first_drop)\n",
    "\n",
    "# predict\n",
    "Y_pred_lr = lr_model.predict(X_test_first_drop_scaled)\n",
    "\n",
    "# evaluate\n",
    "mse_lr = mean_squared_error(Y_test_first_drop, Y_pred_lr)\n",
    "r2_lr = r2_score(Y_test_first_drop, Y_pred_lr)\n",
    "\n",
    "print(\"Linear Regression MAE:\",mean_absolute_error(Y_test_first_drop, Y_pred_lr))\n",
    "print(\"Linear Regression R²:\", r2_lr)\n",
    "print(\"Linear Regression MSE:\", mse_lr)\n"
   ]
  },
  {
   "cell_type": "code",
   "execution_count": 25,
   "id": "f9aa47cc",
   "metadata": {},
   "outputs": [
    {
     "name": "stdout",
     "output_type": "stream",
     "text": [
      "Random Forest MAE: 0.0019395878790350464\n",
      "Random Forest R²: 0.9801259153869528\n",
      "Random Forest MSE: 3.086238376226495e-05\n"
     ]
    }
   ],
   "source": [
    "from sklearn.ensemble import RandomForestRegressor\n",
    "\n",
    "# train\n",
    "rf_model = RandomForestRegressor(random_state=42)\n",
    "rf_model.fit(X_train_trees, Y_train_trees)\n",
    "\n",
    "# predict\n",
    "Y_pred_rf = rf_model.predict(X_test_trees)\n",
    "\n",
    "# evaluate\n",
    "mse_rf = mean_squared_error(Y_test_trees, Y_pred_rf)\n",
    "r2_rf = r2_score(Y_test_trees, Y_pred_rf)\n",
    "\n",
    "print(\"Random Forest MAE:\", mean_absolute_error(Y_test_trees, Y_pred_rf))\n",
    "print(\"Random Forest R²:\", r2_rf)\n",
    "print(\"Random Forest MSE:\", mse_rf)\n"
   ]
  },
  {
   "cell_type": "code",
   "execution_count": 26,
   "id": "ae3ecd88",
   "metadata": {},
   "outputs": [
    {
     "name": "stdout",
     "output_type": "stream",
     "text": [
      " them  MAE  = 0.0015084166336633664\n",
      " them  MSE = 2.3579098989676234e-05\n",
      " them  R²   = 0.9895768173499886\n"
     ]
    }
   ],
   "source": [
    "#The article's results:\n",
    "print(f\" them  MAE  = {mean_absolute_error(Measured_Erosion, Predicted_Erosion)}\")\n",
    "print(f\" them  MSE = {mean_squared_error(Measured_Erosion, Predicted_Erosion)}\")\n",
    "print(f\" them  R²   = {r2_score(Measured_Erosion, Predicted_Erosion)}\")"
   ]
  },
  {
   "cell_type": "code",
   "execution_count": 27,
   "id": "de3dcbfe",
   "metadata": {},
   "outputs": [
    {
     "name": "stdout",
     "output_type": "stream",
     "text": [
      "SVR Results:\n",
      "MAE: 0.007278155033404336\n",
      "R² Score: 0.935914918520639\n",
      "MSE: 9.951745786337437e-05\n"
     ]
    }
   ],
   "source": [
    "from sklearn.svm import SVR\n",
    "\n",
    "svr = SVR(kernel='rbf', C= 0.1, epsilon=0.01, gamma=0.1)\n",
    "svr.fit(X_train_SVR_scaled, Y_train_first_drop)\n",
    "\n",
    "Y_pred_svr = svr.predict(X_test_SVR_scaled)\n",
    "\n",
    "print(\"SVR Results:\")\n",
    "print(\"MAE:\", mean_absolute_error(Y_test_first_drop, Y_pred_svr))\n",
    "print(\"R² Score:\", r2_score(Y_test_first_drop, Y_pred_svr)) \n",
    "print(\"MSE:\", mean_squared_error(Y_test_first_drop, Y_pred_svr))"
   ]
  },
  {
   "cell_type": "code",
   "execution_count": 28,
   "id": "99754d5a",
   "metadata": {},
   "outputs": [
    {
     "name": "stdout",
     "output_type": "stream",
     "text": [
      "Neural Network Results:\n",
      "MAE: 0.011707138089169756\n",
      "R² Score: 0.7851628422129551\n",
      "MSE: 0.0003336197333921613\n"
     ]
    }
   ],
   "source": [
    "from sklearn.neural_network import MLPRegressor\n",
    "\n",
    "nn_model = MLPRegressor(hidden_layer_sizes=(100, 50), activation='relu', solver='adam', alpha=0.0001, learning_rate_init=0.001,\n",
    "                        max_iter=2000, random_state=42)\n",
    "nn_model.fit(X_train_first_drop_scaled, Y_train_first_drop)\n",
    "\n",
    "\n",
    "Y_pred_nn = nn_model.predict(X_test_first_drop_scaled)\n",
    "\n",
    "print(\"Neural Network Results:\")\n",
    "print(\"MAE:\", mean_absolute_error(Y_test_first_drop, Y_pred_nn))\n",
    "print(\"R² Score:\", r2_score(Y_test_first_drop, Y_pred_nn)) \n",
    "print(\"MSE:\", mean_squared_error(Y_test_first_drop, Y_pred_nn))"
   ]
  },
  {
   "cell_type": "code",
   "execution_count": 29,
   "id": "00f2645c",
   "metadata": {},
   "outputs": [
    {
     "name": "stdout",
     "output_type": "stream",
     "text": [
      "Fitting 5 folds for each of 30 candidates, totalling 150 fits\n",
      "Best XGBoost Params: {'subsample': 0.6, 'reg_lambda': 1, 'reg_alpha': 0, 'n_estimators': 100, 'max_depth': 3, 'learning_rate': 0.05, 'colsample_bytree': 1.0}\n",
      "XGBoost MAE: 0.002359972335723703\n",
      "XGBoost R² : 0.975298405457854\n",
      "XGBoost MSE : 3.835900395629306e-05\n"
     ]
    }
   ],
   "source": [
    "from xgboost import XGBRegressor\n",
    "from sklearn.model_selection import RandomizedSearchCV\n",
    "\n",
    "xgb = XGBRegressor(objective='reg:squarederror', random_state=42)\n",
    "\n",
    "xgb_param_grid = {\n",
    "    'n_estimators': [100, 200, 300],\n",
    "    'learning_rate': [0.01, 0.05, 0.1, 0.2],\n",
    "    'max_depth': [3, 5, 7, 10],\n",
    "    'subsample': [0.6, 0.8, 1.0],\n",
    "    'colsample_bytree': [0.6, 0.8, 1.0],\n",
    "    'reg_lambda': [0, 1, 10],      # L2 regularization\n",
    "    'reg_alpha': [0, 0.5, 1]       # L1 regularization\n",
    "}\n",
    "\n",
    "xgb_search = RandomizedSearchCV(xgb, xgb_param_grid, n_iter=30, cv=5, \n",
    "                                scoring='r2', n_jobs=-1, verbose=2, random_state=42)\n",
    "xgb_search.fit(X_train_trees, Y_train_trees)\n",
    "\n",
    "best_xgb = xgb_search.best_estimator_\n",
    "print(\"Best XGBoost Params:\", xgb_search.best_params_)\n",
    "\n",
    "Y_pred_xgb = best_xgb.predict(X_test_trees)\n",
    "\n",
    "print(\"XGBoost MAE:\", mean_absolute_error(Y_test_trees, Y_pred_xgb))\n",
    "print(\"XGBoost R² :\", r2_score(Y_test_trees, Y_pred_xgb))\n",
    "print(\"XGBoost MSE :\", mean_squared_error(Y_test_trees, Y_pred_xgb))"
   ]
  },
  {
   "cell_type": "code",
   "execution_count": 30,
   "id": "1b8c99e0",
   "metadata": {},
   "outputs": [
    {
     "name": "stdout",
     "output_type": "stream",
     "text": [
      "Gradient Boosting MAE : 0.001747887479304062\n",
      "Gradient Boosting R²  : 0.9830803696132986\n",
      "Gradient Boosting MSE : 2.627442401886784e-05\n"
     ]
    }
   ],
   "source": [
    "from sklearn.ensemble import GradientBoostingRegressor\n",
    "\n",
    "gbr = GradientBoostingRegressor(random_state=42)\n",
    "\n",
    "\n",
    "gbr.fit(X_train_trees, Y_train_trees)\n",
    "\n",
    "\n",
    "Y_pred_gbr = gbr.predict(X_test_trees)\n",
    "\n",
    "mae = mean_absolute_error(Y_test_trees, Y_pred_gbr)\n",
    "mse = mean_squared_error(Y_test_trees, Y_pred_gbr)\n",
    "r2 = r2_score(Y_test_trees, Y_pred_gbr)\n",
    "\n",
    "print(\"Gradient Boosting MAE :\", mae)\n",
    "print(\"Gradient Boosting R²  :\", r2)\n",
    "print(\"Gradient Boosting MSE :\", mse)\n"
   ]
  },
  {
   "cell_type": "code",
   "execution_count": 31,
   "id": "2bae9a72",
   "metadata": {},
   "outputs": [
    {
     "data": {
      "image/png": "[encoded data removed]",
      "text/plain": [
       "<Figure size 700x500 with 1 Axes>"
      ]
     },
     "metadata": {},
     "output_type": "display_data"
    }
   ],
   "source": [
    "import matplotlib.pyplot as plt\n",
    "import numpy as np\n",
    "\n",
    "Y_true = Y_test_first_drop  # Ground truth\n",
    "\n",
    "plt.figure(figsize=(7, 5))\n",
    "\n",
    "# Plot perfect agreement line\n",
    "min_val = 1e-5\n",
    "max_val = 1\n",
    "plt.plot([min_val, max_val], [min_val, max_val], 'k-', linewidth=1.5, label='Perfect Agreement')\n",
    "\n",
    "# Scatter plots for all models\n",
    "plt.scatter(Y_true, Y_pred_rf,    c='deepskyblue', label='Random Forest',   marker='o', alpha=0.8)\n",
    "\n",
    "plt.scatter(Y_true, Y_pred_gbr,   c='gold',     label='Gradient Boosting',         marker='s', alpha=0.8)\n",
    "\n",
    "\n",
    "\n",
    "# first_drop-first_drop scale\n",
    "plt.xscale('log')\n",
    "plt.yscale('log')\n",
    "\n",
    "# Custom ticks\n",
    "ticks = [1e-5, 1e-4, 1e-3, 1e-2, 1e-1, 1]\n",
    "plt.xticks(ticks, [r'$10^{-5}$', r'$10^{-4}$', r'$10^{-3}$', r'$10^{-2}$', r'$10^{-1}$', r'$10^{0}$'])\n",
    "plt.yticks(ticks, [r'$10^{-5}$', r'$10^{-4}$', r'$10^{-3}$', r'$10^{-2}$', r'$10^{-1}$', r'$10^{0}$'])\n",
    "\n",
    "# Grid\n",
    "plt.grid(True, which='major', linestyle='--', linewidth=0.7)\n",
    "plt.minorticks_off()\n",
    "\n",
    "# Labels and legend\n",
    "plt.xlabel(\"Experiment (mm/kg)\", fontsize=11)\n",
    "plt.ylabel(\"Prediction (mm/kg)\", fontsize=11)\n",
    "plt.legend(loc='lower right', fontsize=9)\n",
    "\n",
    "plt.tight_layout()\n",
    "plt.show()\n",
    "\n"
   ]
  },
  {
   "cell_type": "code",
   "execution_count": 32,
   "id": "64ba7c71",
   "metadata": {},
   "outputs": [
    {
     "data": {
      "image/png": "[encoded data removed]",
      "text/plain": [
       "<Figure size 700x500 with 1 Axes>"
      ]
     },
     "metadata": {},
     "output_type": "display_data"
    }
   ],
   "source": [
    "import matplotlib.pyplot as plt\n",
    "import numpy as np\n",
    "\n",
    "Y_true = Y_test_first_drop  # Ground truth\n",
    "\n",
    "plt.figure(figsize=(7, 5))\n",
    "\n",
    "# Plot perfect agreement line\n",
    "min_val = 1e-5\n",
    "max_val = 1\n",
    "plt.plot([min_val, max_val], [min_val, max_val], 'k-', linewidth=1.5, label='Perfect Agreement')\n",
    "\n",
    "# Scatter plots for all models\n",
    "plt.scatter(Y_true, Y_pred_rf,    c='deepskyblue', label='Random Forest',   marker='o', alpha=0.8)\n",
    "plt.scatter(Y_true, Y_pred_lr,    c='orange',      label='Linear Model',    marker='s', alpha=0.8)\n",
    "plt.scatter(Y_true, Y_pred_svr,   c='red',   label='SVM',             marker='D', alpha=0.8)\n",
    "plt.scatter(Y_true, Y_pred_nn,    c='gold',        label='Neural Network',  marker='^', alpha=0.8)\n",
    "plt.scatter(Y_true, Y_pred_gbr,   c=\"#005D5D\",     label='Gradient Boosting',         marker='s', alpha=0.8)\n",
    "# first_drop-first_drop scale\n",
    "plt.xscale('log')\n",
    "plt.yscale('log')\n",
    "\n",
    "# Custom ticks\n",
    "ticks = [1e-5, 1e-4, 1e-3, 1e-2, 1e-1, 1]\n",
    "plt.xticks(ticks, [r'$10^{-5}$', r'$10^{-4}$', r'$10^{-3}$', r'$10^{-2}$', r'$10^{-1}$', r'$10^{0}$'])\n",
    "plt.yticks(ticks, [r'$10^{-5}$', r'$10^{-4}$', r'$10^{-3}$', r'$10^{-2}$', r'$10^{-1}$', r'$10^{0}$'])\n",
    "\n",
    "# Grid\n",
    "plt.grid(True, which='major', linestyle='--', linewidth=0.7)\n",
    "plt.minorticks_off()\n",
    "\n",
    "# Labels and legend\n",
    "plt.xlabel(\"Experiment (mm/kg)\", fontsize=11)\n",
    "plt.ylabel(\"Prediction (mm/kg)\", fontsize=11)\n",
    "plt.legend(loc='lower right', fontsize=9)\n",
    "\n",
    "plt.tight_layout()\n",
    "plt.show()\n"
   ]
  }
 ],
 "metadata": {
  "kernelspec": {
   "display_name": "Python 3",
   "language": "python",
   "name": "python3"
  },
  "language_info": {
   "codemirror_mode": {
    "name": "ipython",
    "version": 3
   },
   "file_extension": ".py",
   "mimetype": "text/x-python",
   "name": "python",
   "nbconvert_exporter": "python",
   "pygments_lexer": "ipython3",
   "version": "3.12.5"
  }
 },
 "nbformat": 4,
 "nbformat_minor": 5
}
